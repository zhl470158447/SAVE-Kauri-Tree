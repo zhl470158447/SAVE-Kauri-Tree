{
  "nbformat": 4,
  "nbformat_minor": 0,
  "metadata": {
    "colab": {
      "provenance": [],
      "gpuType": "V100",
      "authorship_tag": "ABX9TyOSUOr4m2BE/GU9DUocuLNL",
      "include_colab_link": true
    },
    "kernelspec": {
      "name": "python3",
      "display_name": "Python 3"
    },
    "language_info": {
      "name": "python"
    },
    "accelerator": "GPU"
  },
  "cells": [
    {
      "cell_type": "markdown",
      "metadata": {
        "id": "view-in-github",
        "colab_type": "text"
      },
      "source": [
        "<a href=\"https://colab.research.google.com/github/zhl470158447/SAVE-Kauri-Tree/blob/main/Untitled11.ipynb\" target=\"_parent\"><img src=\"https://colab.research.google.com/assets/colab-badge.svg\" alt=\"Open In Colab\"/></a>"
      ]
    },
    {
      "cell_type": "code",
      "execution_count": 3,
      "metadata": {
        "id": "92mvHuLGvr42",
        "colab": {
          "base_uri": "https://localhost:8080/"
        },
        "outputId": "c83f34e5-c118-42c6-efda-ac61c6c784f6"
      },
      "outputs": [
        {
          "output_type": "stream",
          "name": "stdout",
          "text": [
            "1875/1875 [==============================] - 12s 6ms/step - loss: 0.4095 - accuracy: 0.9250 - val_loss: 0.1915 - val_accuracy: 0.9819\n",
            "313/313 [==============================] - 1s 3ms/step - loss: 0.1915 - accuracy: 0.9819\n",
            "Test accuracy: 0.9818999767303467\n"
          ]
        }
      ],
      "source": [
        "import tensorflow as tf\n",
        "from tensorflow.keras.layers import Conv2D, MaxPooling2D, Flatten, Dense, Dropout\n",
        "from tensorflow.keras.models import Sequential\n",
        "from tensorflow.keras.datasets import mnist\n",
        "from tensorflow.keras.utils import to_categorical\n",
        "from tensorflow.keras.regularizers import l2\n",
        "\n",
        "# Load and preprocess MNIST dataset\n",
        "(train_images, train_labels), (test_images, test_labels) = mnist.load_data()\n",
        "train_images = train_images.reshape((60000, 28, 28, 1)).astype('float32') / 255  # Normalize and reshape\n",
        "test_images = test_images.reshape((10000, 28, 28, 1)).astype('float32') / 255\n",
        "train_labels = to_categorical(train_labels)  # One-hot encode labels\n",
        "test_labels = to_categorical(test_labels)\n",
        "\n",
        "# Define the CNN model with 8 layers including Dropout for regularization\n",
        "model = Sequential([\n",
        "    Conv2D(32, (3, 3), activation='relu', input_shape=(28, 28, 1), kernel_regularizer=l2(0.001)),\n",
        "    MaxPooling2D((2, 2)),\n",
        "    Conv2D(64, (3, 3), activation='relu', kernel_regularizer=l2(0.001)),\n",
        "    MaxPooling2D((2, 2)),\n",
        "    Conv2D(64, (3, 3), activation='relu', kernel_regularizer=l2(0.001)),\n",
        "    Flatten(),\n",
        "    Dense(64, activation='relu', kernel_regularizer=l2(0.001)),\n",
        "   # Dropout(0.5),  # Dropout layer to prevent overfitting\n",
        "    Dense(10, activation='softmax')\n",
        "])\n",
        "\n",
        "# Compile the model\n",
        "model.compile(optimizer='adam', loss='categorical_crossentropy', metrics=['accuracy'])\n",
        "\n",
        "# Train the model for  epochs\n",
        "history = model.fit(train_images, train_labels, epochs=1, validation_data=(test_images, test_labels), verbose=1)\n",
        "\n",
        "# Evaluate the model on test data\n",
        "test_loss, test_accuracy = model.evaluate(test_images, test_labels)\n",
        "print(f\"Test accuracy: {test_accuracy}\")\n"
      ]
    },
    {
      "cell_type": "code",
      "source": [
        "import matplotlib.pyplot as plt\n",
        "\n",
        "# Extracting one image from the training set\n",
        "trainf = train_images[0]\n",
        "trainr = train_images[1:]\n",
        "\n",
        "# Display the extracted image\n",
        "plt.imshow(trainf.squeeze(), cmap='gray')\n",
        "plt.title(\"Extracted Image\")\n",
        "plt.show()\n"
      ],
      "metadata": {
        "colab": {
          "base_uri": "https://localhost:8080/",
          "height": 452
        },
        "id": "lH4vV8KRxcDu",
        "outputId": "36b51485-a7cf-4ea8-878a-ae5be261b48d"
      },
      "execution_count": 4,
      "outputs": [
        {
          "output_type": "display_data",
          "data": {
            "text/plain": [
              "<Figure size 640x480 with 1 Axes>"
            ],
            "image/png": "[encoded data removed]"
          },
          "metadata": {}
        }
      ]
    },
    {
      "cell_type": "code",
      "source": [
        "for layer in badteacher.layers:\n",
        "    print(layer.name)"
      ],
      "metadata": {
        "colab": {
          "base_uri": "https://localhost:8080/"
        },
        "id": "wPzNNmgi6VOh",
        "outputId": "8e7a5710-4a96-4507-d959-5ca07e4a29e0"
      },
      "execution_count": 9,
      "outputs": [
        {
          "output_type": "stream",
          "name": "stdout",
          "text": [
            "conv2d_3\n",
            "max_pooling2d_2\n",
            "conv2d_4\n",
            "max_pooling2d_3\n",
            "conv2d_5\n",
            "flatten_1\n",
            "dense_2\n",
            "dropout_1\n",
            "dense_3\n"
          ]
        }
      ]
    },
    {
      "cell_type": "code",
      "source": [
        "import tensorflow as tf\n",
        "from tensorflow.keras.metrics import CategoricalAccuracy\n",
        "\n",
        "# 创建一个准确度评估指标的实例\n",
        "accuracy_metric = CategoricalAccuracy()\n",
        "# 假设 test_images 和 test_labels 已经定义\n",
        "test_dataset = tf.data.Dataset.from_tensor_slices((test_images, test_labels)).batch(32)\n",
        "\n",
        "# 1. 复制模型到 student\n",
        "student = tf.keras.models.clone_model(model)\n",
        "student.set_weights(model.get_weights())\n",
        "\n",
        "# 2. 复制模型到 badteacher 并随机初始化权重\n",
        "badteacher = tf.keras.models.clone_model(model)\n",
        "badteacher.compile(optimizer='adam', loss='categorical_crossentropy', metrics=['accuracy'])  # 确保模型被编译\n",
        "\n",
        "# 3. 选择一个中间层作为特征层\n",
        "feature_layer = 'flatten_1'  # 假设我们使用 flatten 层作为特征层\n",
        "\n",
        "# 创建一个新模型，输出中间层的特征\n",
        "badteacher_feature_model = tf.keras.models.Model(inputs=badteacher.input,\n",
        "                                                 outputs=badteacher.get_layer(feature_layer).output)\n",
        "student_feature_model = tf.keras.models.Model(inputs=student.input,\n",
        "                                              outputs=student.get_layer(feature_layer).output)\n",
        "\n",
        "import tensorflow as tf\n",
        "\n",
        "# 1. 复制模型到 student\n",
        "student = tf.keras.models.clone_model(model)\n",
        "student.set_weights(model.get_weights())\n",
        "\n",
        "# 2. 复制模型到 badteacher 并随机初始化权重\n",
        "badteacher = tf.keras.models.clone_model(model)\n",
        "badteacher.compile(optimizer='adam', loss='categorical_crossentropy', metrics=['accuracy'])  # 确保模型被编译\n",
        "\n",
        "# 3. 选择一个中间层作为特征层\n",
        "feature_layer = 'flatten_1'  # 假设我们使用 flatten 层作为特征层\n",
        "\n",
        "# 创建一个新模型，输出中间层的特征\n",
        "badteacher_feature_model = tf.keras.models.Model(inputs=badteacher.input,\n",
        "                                                 outputs=badteacher.get_layer(feature_layer).output)\n",
        "student_feature_model = tf.keras.models.Model(inputs=student.input,\n",
        "                                              outputs=student.get_layer(feature_layer).output)\n",
        "trainf_batch = tf.expand_dims(trainf, axis=0)\n",
        "\n",
        "# train_labels[0] 是单个标签，也需要扩展为一个批量\n",
        "train_labels_batch = tf.expand_dims(train_labels[0], axis=0)\n",
        "\n",
        "# 创建一个只包含一张图片的数据集\n",
        "train_dataset = tf.data.Dataset.from_tensor_slices((trainf_batch, train_labels_batch))\n",
        "\n",
        "# 由于只有一个数据点，batch大小可以设置为1\n",
        "train_dataset = train_dataset.batch(1)\n",
        "\n",
        "# 创建优化器和损失函数\n",
        "optimizer = tf.keras.optimizers.Adam()\n",
        "loss_fn = tf.keras.losses.CategoricalCrossentropy()\n",
        "\n",
        "\n",
        "# 创建优化器\n",
        "optimizer = tf.keras.optimizers.Adam()\n",
        "\n",
        "# 自定义训练循环\n",
        "for epoch in range(1):  # 迭代次数\n",
        "    for step, (x_batch_train, y_batch_train) in enumerate(train_dataset):\n",
        "        with tf.GradientTape() as tape:\n",
        "            # 获取学生模型的预测\n",
        "            student_predictions = student(x_batch_train, training=True)\n",
        "\n",
        "            # 计算损失\n",
        "            loss = loss_fn(y_batch_train, student_predictions)\n",
        "            # 添加特征差异损失\n",
        "            badteacher_features = badteacher_feature_model(x_batch_train)\n",
        "            student_features = student_feature_model(x_batch_train)\n",
        "            feature_difference_loss = tf.reduce_mean(tf.square(badteacher_features - student_features))\n",
        "            total_loss = loss + feature_difference_loss\n",
        "\n",
        "        # 计算梯度并更新学生模型的权重\n",
        "        grads = tape.gradient(total_loss, student.trainable_weights)\n",
        "        optimizer.apply_gradients(zip(grads, student.trainable_weights))\n",
        "\n",
        "        accuracy_metric.reset_states()  # 重置准确度指标的状态\n",
        "        for x_batch_test, y_batch_test in test_dataset:\n",
        "            test_predictions = student(x_batch_test, training=False)\n",
        "            accuracy_metric.update_state(y_batch_test, test_predictions)\n",
        "        test_accuracy = accuracy_metric.result().numpy()\n",
        "\n",
        "\n",
        "        # 每一定步数打印损失信息\n",
        "        if step % 100 == 0:\n",
        "\n",
        "            print(f\"Epoch {epoch}, Step {step}, Loss: {float(total_loss)}, Test Accuracy: {test_accuracy}\")\n",
        "\n",
        "\n",
        "\n"
      ],
      "metadata": {
        "colab": {
          "base_uri": "https://localhost:8080/"
        },
        "id": "Rh3kiV7A1AO_",
        "outputId": "347c149e-fa55-4ee0-fcab-ef7ee21d60a3"
      },
      "execution_count": 8,
      "outputs": [
        {
          "output_type": "stream",
          "name": "stderr",
          "text": [
            "WARNING:tensorflow:5 out of the last 5 calls to <function _BaseOptimizer._update_step_xla at 0x7baa58178550> triggered tf.function retracing. Tracing is expensive and the excessive number of tracings could be due to (1) creating @tf.function repeatedly in a loop, (2) passing tensors with different shapes, (3) passing Python objects instead of tensors. For (1), please define your @tf.function outside of the loop. For (2), @tf.function has reduce_retracing=True option that can avoid unnecessary retracing. For (3), please refer to https://www.tensorflow.org/guide/function#controlling_retracing and https://www.tensorflow.org/api_docs/python/tf/function for  more details.\n",
            "WARNING:tensorflow:6 out of the last 6 calls to <function _BaseOptimizer._update_step_xla at 0x7baa58178550> triggered tf.function retracing. Tracing is expensive and the excessive number of tracings could be due to (1) creating @tf.function repeatedly in a loop, (2) passing tensors with different shapes, (3) passing Python objects instead of tensors. For (1), please define your @tf.function outside of the loop. For (2), @tf.function has reduce_retracing=True option that can avoid unnecessary retracing. For (3), please refer to https://www.tensorflow.org/guide/function#controlling_retracing and https://www.tensorflow.org/api_docs/python/tf/function for  more details.\n"
          ]
        },
        {
          "output_type": "stream",
          "name": "stdout",
          "text": [
            "Epoch 0, Step 0, Loss: 0.4306045174598694, Test Accuracy: 0.9793999791145325\n"
          ]
        }
      ]
    },
    {
      "cell_type": "code",
      "source": [],
      "metadata": {
        "id": "I0ryCWDrhteS"
      },
      "execution_count": null,
      "outputs": []
    },
    {
      "cell_type": "code",
      "source": [
        "import tensorflow as tf\n",
        "from tensorflow.keras.losses import CategoricalCrossentropy\n",
        "from tensorflow.keras.metrics import CategoricalAccuracy\n",
        "from tensorflow.keras.optimizers import Adam\n",
        "\n",
        "# 1. 复制模型到 student\n",
        "student = tf.keras.models.clone_model(model)\n",
        "student.set_weights(model.get_weights())\n",
        "\n",
        "# 2. 复制模型到 badteacher 并随机初始化权重\n",
        "badteacher = tf.keras.models.clone_model(model)\n",
        "\n",
        "# 初始化 badteacher 的每一层权重\n",
        "random_weights = [tf.random.normal(w.shape) for w in badteacher.weights]\n",
        "badteacher.set_weights(random_weights)\n",
        "\n",
        "badteacher.compile(optimizer='adam', loss='categorical_crossentropy', metrics=['accuracy'])\n",
        "\n",
        "\n",
        "# 3. 选择一个中间层作为特征层\n",
        "feature_layer = 'flatten_1'\n",
        "badteacher_feature_model = tf.keras.models.Model(inputs=badteacher.input,\n",
        "                                                 outputs=badteacher.get_layer(feature_layer).output)\n",
        "student_feature_model = tf.keras.models.Model(inputs=student.input,\n",
        "                                              outputs=student.get_layer(feature_layer).output)\n",
        "\n",
        "\n",
        "# 4. 自定义损失函数\n",
        "def custom_loss(y_true, y_pred, alpha=0.5):\n",
        "    # 计算分类损失\n",
        "    classification_loss = CategoricalCrossentropy()(y_true, y_pred)\n",
        "\n",
        "    # 计算特征差异\n",
        "    badteacher_features = badteacher_feature_model(y_true)\n",
        "    student_features = student_feature_model(y_true)\n",
        "    feature_difference = tf.reduce_mean(tf.square(badteacher_features - student_features))\n",
        "\n",
        "    # 综合两种损失\n",
        "    total_loss = classification_loss + alpha * feature_difference\n",
        "    return total_loss\n",
        "\n",
        "\n",
        "\n",
        "\n",
        "\n",
        "\n",
        "def custom_loss(x_input, y_true, y_pred, alpha=0.5):\n",
        "    \"\"\"\n",
        "    自定义损失函数，结合分类损失和特征差异损失。\n",
        "    :param x_input: 输入图像数据。\n",
        "    :param y_true: 真实标签。\n",
        "    :param y_pred: 模型预测。\n",
        "    :param alpha: 控制特征差异损失权重的超参数。\n",
        "    :return: 总损失。\n",
        "    \"\"\"\n",
        "    # 计算分类损失\n",
        "    classification_loss = CategoricalCrossentropy()(y_true, y_pred)\n",
        "\n",
        "    # 计算特征差异\n",
        "    badteacher_features = badteacher_feature_model(x_input)\n",
        "    student_features = student_feature_model(x_input)\n",
        "    feature_difference = tf.reduce_mean(tf.square(badteacher_features - student_features))\n",
        "\n",
        "    # 综合两种损失\n",
        "    total_loss = classification_loss + alpha * feature_difference\n",
        "    return total_loss\n",
        "\n",
        "# 5. 训练 student\n",
        "optimizer = Adam()\n",
        "accuracy_metric = CategoricalAccuracy()\n",
        "\n",
        "for epoch in range(20):  # 迭代次数\n",
        "    for step, (x_batch_train, y_batch_train) in enumerate(train_dataset):\n",
        "        with tf.GradientTape() as tape:\n",
        "            # 获取学生模型的预测\n",
        "            student_predictions = student(x_batch_train, training=True)\n",
        "            # 计算自定义损失\n",
        "            loss = custom_loss(x_batch_train,y_batch_train, student_predictions)\n",
        "\n",
        "        # 计算梯度并更新学生模型的权重\n",
        "        grads = tape.gradient(loss, student.trainable_weights)\n",
        "        optimizer.apply_gradients(zip(grads, student.trainable_weights))\n",
        "\n",
        "        # 计算准确度\n",
        "        accuracy_metric.update_state(y_batch_train, student_predictions)\n",
        "\n",
        "        if step % 100 == 0:\n",
        "            print(f\"Epoch {epoch}, Step {step}, Loss: {loss.numpy()}, Accuracy: {accuracy_metric.result().numpy()}\")\n",
        "            accuracy_metric.reset_states()\n"
      ],
      "metadata": {
        "colab": {
          "base_uri": "https://localhost:8080/"
        },
        "outputId": "24f7d8fc-6a96-4802-9411-555fa5e0f1a9",
        "id": "8ltThcP0hty1"
      },
      "execution_count": null,
      "outputs": [
        {
          "output_type": "stream",
          "name": "stdout",
          "text": [
            "Epoch 0, Step 0, Loss: 131777.453125, Accuracy: 1.0\n",
            "Epoch 1, Step 0, Loss: 131754.640625, Accuracy: 1.0\n",
            "Epoch 2, Step 0, Loss: 131729.453125, Accuracy: 1.0\n",
            "Epoch 3, Step 0, Loss: 131700.421875, Accuracy: 1.0\n",
            "Epoch 4, Step 0, Loss: 131668.5, Accuracy: 1.0\n",
            "Epoch 5, Step 0, Loss: 131632.484375, Accuracy: 1.0\n",
            "Epoch 6, Step 0, Loss: 131591.859375, Accuracy: 1.0\n",
            "Epoch 7, Step 0, Loss: 131546.1875, Accuracy: 1.0\n",
            "Epoch 8, Step 0, Loss: 131494.71875, Accuracy: 1.0\n",
            "Epoch 9, Step 0, Loss: 131435.265625, Accuracy: 1.0\n",
            "Epoch 10, Step 0, Loss: 131367.59375, Accuracy: 1.0\n",
            "Epoch 11, Step 0, Loss: 131289.5, Accuracy: 1.0\n",
            "Epoch 12, Step 0, Loss: 131199.96875, Accuracy: 1.0\n",
            "Epoch 13, Step 0, Loss: 131098.3125, Accuracy: 1.0\n",
            "Epoch 14, Step 0, Loss: 130981.625, Accuracy: 1.0\n",
            "Epoch 15, Step 0, Loss: 130849.0078125, Accuracy: 1.0\n",
            "Epoch 16, Step 0, Loss: 130700.03125, Accuracy: 1.0\n",
            "Epoch 17, Step 0, Loss: 130532.484375, Accuracy: 1.0\n",
            "Epoch 18, Step 0, Loss: 130345.8359375, Accuracy: 1.0\n",
            "Epoch 19, Step 0, Loss: 130139.0859375, Accuracy: 1.0\n"
          ]
        }
      ]
    },
    {
      "cell_type": "code",
      "source": [
        "import tensorflow as tf\n",
        "from tensorflow.keras.losses import CategoricalCrossentropy\n",
        "from tensorflow.keras.metrics import CategoricalAccuracy\n",
        "from tensorflow.keras.optimizers import Adam\n",
        "\n",
        "\n",
        "\n",
        "\n",
        "# 4. 自定义损失函数\n",
        "def custom_loss(y_true, y_pred, alpha=0.5):\n",
        "    # 计算分类损失\n",
        "    classification_loss = CategoricalCrossentropy()(y_true, y_pred)\n",
        "\n",
        "    # 计算特征差异\n",
        "    badteacher_features = badteacher_feature_model(y_true)\n",
        "    student_features = student_feature_model(y_true)\n",
        "    feature_difference = tf.reduce_mean(tf.square(badteacher_features - student_features))\n",
        "\n",
        "    # 综合两种损失\n",
        "    total_loss = classification_loss + alpha * feature_difference\n",
        "    return total_loss\n",
        "\n",
        "\n",
        "\n",
        "\n",
        "\n",
        "\n",
        "def custom_loss(x_input, y_true, y_pred, alpha=0.5):\n",
        "    \"\"\"\n",
        "    自定义损失函数，结合分类损失和特征差异损失。\n",
        "    :param x_input: 输入图像数据。\n",
        "    :param y_true: 真实标签。\n",
        "    :param y_pred: 模型预测。\n",
        "    :param alpha: 控制特征差异损失权重的超参数。\n",
        "    :return: 总损失。\n",
        "    \"\"\"\n",
        "    # 计算分类损失\n",
        "    classification_loss = CategoricalCrossentropy()(y_true, y_pred)\n",
        "\n",
        "    # 计算特征差异\n",
        "    badteacher_features = badteacher_feature_model(x_input)\n",
        "    student_features = student_feature_model(x_input)\n",
        "    feature_difference = tf.reduce_mean(tf.square(badteacher_features - student_features))\n",
        "\n",
        "    # 综合两种损失\n",
        "    total_loss = classification_loss + alpha * feature_difference\n",
        "    return total_loss\n",
        "\n",
        "# 5. 训练 student\n",
        "optimizer = Adam()\n",
        "accuracy_metric = CategoricalAccuracy()\n",
        "\n",
        "for epoch in range(20):  # 迭代次数\n",
        "    for step, (x_batch_train, y_batch_train) in enumerate(train_dataset):\n",
        "        with tf.GradientTape() as tape:\n",
        "            # 获取学生模型的预测\n",
        "            student_predictions = student(x_batch_train, training=True)\n",
        "            # 计算自定义损失\n",
        "            loss = custom_loss(x_batch_train,y_batch_train, student_predictions)\n",
        "\n",
        "        # 计算梯度并更新学生模型的权重\n",
        "        grads = tape.gradient(loss, student.trainable_weights)\n",
        "        optimizer.apply_gradients(zip(grads, student.trainable_weights))\n",
        "\n",
        "        # 计算准确度\n",
        "        accuracy_metric.update_state(y_batch_train, student_predictions)\n",
        "\n",
        "        if step % 100 == 0:\n",
        "            print(f\"Epoch {epoch}, Step {step}, Loss: {loss.numpy()}, Accuracy: {accuracy_metric.result().numpy()}\")\n",
        "            accuracy_metric.reset_states()\n"
      ],
      "metadata": {
        "colab": {
          "base_uri": "https://localhost:8080/"
        },
        "id": "jCmNHw9xXA4n",
        "outputId": "5ae17a72-f0c2-46d0-d7de-edd7d31e9dc5"
      },
      "execution_count": 17,
      "outputs": [
        {
          "output_type": "stream",
          "name": "stdout",
          "text": [
            "Epoch 0, Step 0, Loss: 129911.125, Accuracy: 1.0\n",
            "Epoch 1, Step 0, Loss: 129692.0859375, Accuracy: 1.0\n",
            "Epoch 2, Step 0, Loss: 129456.90625, Accuracy: 1.0\n",
            "Epoch 3, Step 0, Loss: 129205.0703125, Accuracy: 1.0\n",
            "Epoch 4, Step 0, Loss: 128935.859375, Accuracy: 1.0\n",
            "Epoch 5, Step 0, Loss: 128648.6796875, Accuracy: 1.0\n",
            "Epoch 6, Step 0, Loss: 128342.859375, Accuracy: 1.0\n",
            "Epoch 7, Step 0, Loss: 128017.609375, Accuracy: 1.0\n",
            "Epoch 8, Step 0, Loss: 127671.390625, Accuracy: 1.0\n",
            "Epoch 9, Step 0, Loss: 127303.96875, Accuracy: 1.0\n",
            "Epoch 10, Step 0, Loss: 126914.265625, Accuracy: 1.0\n",
            "Epoch 11, Step 0, Loss: 126501.46875, Accuracy: 1.0\n",
            "Epoch 12, Step 0, Loss: 126064.9296875, Accuracy: 1.0\n",
            "Epoch 13, Step 0, Loss: 125603.7109375, Accuracy: 1.0\n",
            "Epoch 14, Step 0, Loss: 125117.015625, Accuracy: 1.0\n",
            "Epoch 15, Step 0, Loss: 124604.015625, Accuracy: 1.0\n",
            "Epoch 16, Step 0, Loss: 124063.6640625, Accuracy: 1.0\n",
            "Epoch 17, Step 0, Loss: 123495.0859375, Accuracy: 1.0\n",
            "Epoch 18, Step 0, Loss: 122898.1640625, Accuracy: 1.0\n",
            "Epoch 19, Step 0, Loss: 122272.78125, Accuracy: 1.0\n"
          ]
        }
      ]
    },
    {
      "cell_type": "code",
      "source": [
        "import numpy as np\n",
        "import tensorflow as tf\n",
        "import matplotlib.pyplot as plt\n",
        "\n",
        "def perform_mia(model, known_data, new_data, label):\n",
        "    \"\"\"\n",
        "    Perform a simple membership inference attack.\n",
        "\n",
        "    :param model: Trained model to be tested.\n",
        "    :param known_data: Data that was used during training (trainf in your case).\n",
        "    :param new_data: New data, not seen by the model during training.\n",
        "    :param label: The true label for both known_data and new data.\n",
        "    :return: Difference in prediction confidence for known and new data.\n",
        "    \"\"\"\n",
        "    # Get the model's prediction on the known data\n",
        "    known_prediction = model.predict(known_data)\n",
        "    known_confidence = np.max(tf.nn.softmax(known_prediction))\n",
        "\n",
        "    # Get the model's prediction on the new data\n",
        "    new_prediction = model.predict(new_data)\n",
        "    new_confidence = np.max(tf.nn.softmax(new_prediction))\n",
        "\n",
        "    # Display the new data\n",
        "    plt.imshow(new_data[0, :, :, 0], cmap='gray')\n",
        "    plt.title(\"Randomly Generated Data with Seed\")\n",
        "    plt.show()\n",
        "\n",
        "    # Calculate the difference in confidence\n",
        "    confidence_diff = known_confidence - new_confidence\n",
        "    return confidence_diff\n",
        "\n",
        "\n",
        "# Example usage\n",
        "# Setting a fixed random seed for reproducibility\n",
        "np.random.seed(0)\n",
        "\n",
        "# Assuming trainf is the known data\n",
        "# Expand dimensions for trainf as it's a single image\n",
        "trainf_expanded = np.expand_dims(trainf, axis=0)\n",
        "\n",
        "# Generate the same random data for testing every time\n",
        "new_data_example = np.random.rand(1, 28, 28, 1)\n",
        "\n",
        "# Example label, assuming trainf's label is at train_labels[0]\n",
        "label_example = train_labels[0]\n",
        "\n",
        "# Perform MIA for student\n",
        "mia_result = perform_mia(student, trainf_expanded, new_data_example, label_example)\n",
        "print(f\"Membership Inference Attack Result (Confidence Difference): {mia_result}\")\n"
      ],
      "metadata": {
        "colab": {
          "base_uri": "https://localhost:8080/",
          "height": 507
        },
        "id": "kutbanFNeUUA",
        "outputId": "2e51a8bc-a105-4288-ced4-2849d4fb9c88"
      },
      "execution_count": 18,
      "outputs": [
        {
          "output_type": "stream",
          "name": "stdout",
          "text": [
            "1/1 [==============================] - 0s 18ms/step\n",
            "1/1 [==============================] - 0s 18ms/step\n"
          ]
        },
        {
          "output_type": "display_data",
          "data": {
            "text/plain": [
              "<Figure size 640x480 with 1 Axes>"
            ],
            "image/png": "[encoded data removed]"
          },
          "metadata": {}
        },
        {
          "output_type": "stream",
          "name": "stdout",
          "text": [
            "Membership Inference Attack Result (Confidence Difference): 0.0\n"
          ]
        }
      ]
    },
    {
      "cell_type": "code",
      "source": [
        "# Perform MIA for model\n",
        "mia_result = perform_mia(model, trainf_expanded, new_data_example, label_example)\n",
        "print(f\"Membership Inference Attack Result (Confidence Difference): {mia_result}\")"
      ],
      "metadata": {
        "colab": {
          "base_uri": "https://localhost:8080/",
          "height": 507
        },
        "id": "UGJ5Hm3wfWXl",
        "outputId": "b1712137-bdbe-412c-ce65-a43a40bb7047"
      },
      "execution_count": 19,
      "outputs": [
        {
          "output_type": "stream",
          "name": "stdout",
          "text": [
            "1/1 [==============================] - 0s 20ms/step\n",
            "1/1 [==============================] - 0s 20ms/step\n"
          ]
        },
        {
          "output_type": "display_data",
          "data": {
            "text/plain": [
              "<Figure size 640x480 with 1 Axes>"
            ],
            "image/png": "[encoded data removed]"
          },
          "metadata": {}
        },
        {
          "output_type": "stream",
          "name": "stdout",
          "text": [
            "Membership Inference Attack Result (Confidence Difference): 0.08036473393440247\n"
          ]
        }
      ]
    }
  ]
}